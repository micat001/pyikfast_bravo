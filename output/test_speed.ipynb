{
 "cells": [
  {
   "cell_type": "code",
   "execution_count": 2,
   "metadata": {},
   "outputs": [],
   "source": [
    "import time\n",
    "import pyikfastbravo as pyikfast\n",
    "import yaml\n",
    "import numpy as np\n",
    "import matplotlib.pyplot as plt\n",
    "from sklearn.preprocessing import normalize\n",
    "from scipy.spatial.transform import Rotation as R\n"
   ]
  },
  {
   "cell_type": "code",
   "execution_count": 3,
   "metadata": {},
   "outputs": [],
   "source": [
    "def read_yaml_file(path):\n",
    "    with open(path, \"r\") as stream:\n",
    "        try:\n",
    "            data = yaml.safe_load(stream)\n",
    "            return data\n",
    "        except:\n",
    "            return None\n"
   ]
  },
  {
   "cell_type": "code",
   "execution_count": 35,
   "metadata": {},
   "outputs": [],
   "source": [
    "ee_positions = read_yaml_file(\"/home/mmicatka/Documents/ikfast/pyikfast/output/positions.yaml\")"
   ]
  },
  {
   "cell_type": "code",
   "execution_count": 39,
   "metadata": {},
   "outputs": [
    {
     "name": "stdout",
     "output_type": "stream",
     "text": [
      "[[2.362600401861382, 1.7272766525118493, 1.4143160010779408, -0.6330473103911651, 0.0, 1.7168331919201747], [2.0453600763444175, 1.727276652511852, 1.4143160010779414, 0.6330480315858708, -7.105427357601002e-15, -2.983016447765408]]\n"
     ]
    }
   ],
   "source": [
    "poses = list(ee_positions.values())\n",
    "pose = poses[-1]\n",
    "matr = R.from_quat(pose[3:])\n",
    "rot_mat = matr.as_matrix()\n",
    "target_translation = pose[:3]\n",
    "target_rotation = list(rot_mat.flatten())\n",
    "\n",
    "t0 = time.time()\n",
    "solution = pyikfast.inverse(target_translation, target_rotation)\n",
    "t1 = time.time() - t0\n",
    "\n",
    "print(solution)"
   ]
  },
  {
   "cell_type": "code",
   "execution_count": 40,
   "metadata": {},
   "outputs": [],
   "source": [
    "poses = list(ee_positions.values())\n",
    "num_poses = len(poses)\n",
    "times = []\n",
    "successes = []\n",
    "\n",
    "for i in range(1000):\n",
    "    idx = np.random.randint(0, num_poses)\n",
    "    pose = poses[idx]\n",
    "    matr = R.from_quat(pose[3:])\n",
    "    rot_mat = matr.as_matrix()\n",
    "    target_translation = pose[:3]\n",
    "    target_rotation = list(rot_mat.flatten())#[1, 0, 0, 0, 1, 0, 0, 0, 1]\n",
    "\n",
    "    t0 = time.time()\n",
    "    solution = pyikfast.inverse(target_translation, target_rotation)\n",
    "    t1 = time.time() - t0\n",
    "\n",
    "    times.append(t1)\n",
    "    successes.append(len(solution) > 0)\n",
    "\n",
    "times = np.array(times)\n",
    "successes = np.array(successes)"
   ]
  },
  {
   "cell_type": "code",
   "execution_count": 41,
   "metadata": {},
   "outputs": [
    {
     "name": "stdout",
     "output_type": "stream",
     "text": [
      "0.07586884498596191\n",
      "227\n"
     ]
    }
   ],
   "source": [
    "print(1000*times.mean())\n",
    "print(np.sum(successes))"
   ]
  },
  {
   "cell_type": "code",
   "execution_count": 42,
   "metadata": {},
   "outputs": [
    {
     "data": {
      "image/png": "[encoded data removed]",
      "text/plain": [
       "<Figure size 432x288 with 1 Axes>"
      ]
     },
     "metadata": {
      "needs_background": "light"
     },
     "output_type": "display_data"
    }
   ],
   "source": [
    "plt.hist(1000*times)\n",
    "plt.show()"
   ]
  },
  {
   "cell_type": "code",
   "execution_count": null,
   "metadata": {},
   "outputs": [],
   "source": [
    "num_bins = 50\n"
   ]
  }
 ],
 "metadata": {
  "kernelspec": {
   "display_name": "Python 3",
   "language": "python",
   "name": "python3"
  },
  "language_info": {
   "codemirror_mode": {
    "name": "ipython",
    "version": 3
   },
   "file_extension": ".py",
   "mimetype": "text/x-python",
   "name": "python",
   "nbconvert_exporter": "python",
   "pygments_lexer": "ipython3",
   "version": "3.8.10"
  }
 },
 "nbformat": 4,
 "nbformat_minor": 2
}
